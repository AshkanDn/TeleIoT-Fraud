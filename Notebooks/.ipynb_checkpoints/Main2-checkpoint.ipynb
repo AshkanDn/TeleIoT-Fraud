{
 "cells": [
  {
   "cell_type": "code",
   "execution_count": 2,
   "id": "bfa2eed5-c381-4b5e-8b9f-2f6f15261656",
   "metadata": {
    "scrolled": true
   },
   "outputs": [],
   "source": [
    "import os\n",
    "os.chdir('/Users/dashtban/Ticker-Test/')\n",
    "from src.utils import *\n",
    "from src.enrich import *\n",
    "\n",
    "import yaml\n",
    "# Read configuration from YAML file\n",
    "with open('config.yml', 'r') as config_file:\n",
    "    conf = yaml.safe_load(config_file)\n",
    "#df = pd.read_pickle(config['data']['loadedfiles'])\n",
    "\n",
    "import pandas as pd\n",
    "import json\n",
    "import seaborn as sns\n",
    "import matplotlib.pyplot as plt\n",
    "from collections import defaultdict\n",
    "from datetime import datetime\n",
    "import lightgbm as lgb\n",
    "from sklearn.model_selection import train_test_split\n",
    "\n",
    "# Set low_memory to False\n",
    "pd.set_option('mode.use_inf_as_na', True)\n"
   ]
  },
  {
   "cell_type": "code",
   "execution_count": null,
   "id": "3902b7c3-3b9c-4c50-923f-ad3a6fc93df9",
   "metadata": {},
   "outputs": [],
   "source": []
  },
  {
   "cell_type": "code",
   "execution_count": 108,
   "id": "f26dbbb1-4a02-48bf-8610-d7beaa52bf65",
   "metadata": {},
   "outputs": [
    {
     "name": "stderr",
     "output_type": "stream",
     "text": [
      "/var/folders/wq/qwr2827d25g4h82c4hdh7mqw0000gn/T/ipykernel_93756/4280932868.py:3: DtypeWarning: Columns (24,34) have mixed types. Specify dtype option on import or set low_memory=False.\n",
      "  df = pd.read_csv(conf['path']['data']+\"Rdata/processed_data_scanned.csv\")\n"
     ]
    }
   ],
   "source": [
    "df = pd.read_pickle(conf['path']['data']+'df_refined.pkl')\n",
    "# Read the CSV file into a DataFrame\n",
    "df = pd.read_csv(conf['path']['data']+\"Rdata/processed_data_scanned.csv\")\n",
    "\n",
    "# Remove \"position_\" prefix from column names\n",
    "df.columns = [col.replace('positions.', '') for col in df.columns]\n",
    "df = enrichment_pipeline(df)\n",
    "\n",
    "df.to_pickle(config['path']['data']+'df_refined_enriched.pkl')\n",
    "df.to_pickle(config['path']['data']+'df_refined_enriched.pkl')\n",
    "df = pd.read_pickle(config['path']['data']+'df_refined_enriched.pkl')\n"
   ]
  },
  {
   "cell_type": "code",
   "execution_count": 185,
   "id": "dbad18f4-2170-402d-a348-97e1fa6068a6",
   "metadata": {},
   "outputs": [],
   "source": [
    "# Select top 1 row per UID\n",
    "df_1 = df.groupby('UID').head(1)\n",
    "#df_1.isnull().sum()"
   ]
  },
  {
   "cell_type": "code",
   "execution_count": 192,
   "id": "0bd3d085-706d-4110-9caa-f5526eda9083",
   "metadata": {},
   "outputs": [
    {
     "data": {
      "text/plain": [
       "Index(['cleaned', 'coordinates.lat', 'coordinates.lon', 'hdop', 'speed',\n",
       "       'speedMph', 'speedLimitMph', 'ts', 'course', 'formOfWay', 'routeName',\n",
       "       'name', 'tripDistance', 'averageY', 'numSats', 'averageX', 'averageZ',\n",
       "       'ID', 'seconds_diff_from_event', 'duration', 'IDS', 'UID', 'incident',\n",
       "       'receivedAt', 'startedAt', 'geocoded', 'deviceId', 'policyId',\n",
       "       'journeyId', 'endedAt', 'distanceSource', 'gpsDistanceMeters',\n",
       "       'canDistanceMeters', 'averageGPSFix', 'heading', 'total_distance',\n",
       "       'average_speed', 'duration_minutes', 'direct_distance', 'gforce',\n",
       "       'Signal_Strength', 'Wavelet_XYZ_1', 'Wavelet_XYZ_2', 'Wavelet_XYZ_3',\n",
       "       'Wavelet_LonLat_1', 'Wavelet_LonLat_2', 'Wavelet_LonLat_3',\n",
       "       'PCA_GFroce_1', 'Distinct_formOfWay_Count'],\n",
       "      dtype='object')"
      ]
     },
     "execution_count": 192,
     "metadata": {},
     "output_type": "execute_result"
    }
   ],
   "source": [
    "df_1.columns"
   ]
  },
  {
   "cell_type": "code",
   "execution_count": 203,
   "id": "4c449657-03d4-4dc2-9fb6-68264851f658",
   "metadata": {},
   "outputs": [],
   "source": []
  },
  {
   "cell_type": "code",
   "execution_count": 205,
   "id": "2d916384-d8d2-44c1-a0fd-d15f35130551",
   "metadata": {},
   "outputs": [],
   "source": [
    "generate_correlation_table(df[sel_cols],config['path']['data']+'df_enriched_corr.html')\n",
    "generate_correlation_heatmap(df[sel_cols],config['path']['data']+'df_enriched_corr.jpg')"
   ]
  },
  {
   "cell_type": "code",
   "execution_count": 218,
   "id": "2dcc6659-5d01-42a7-8579-11158e9f8f20",
   "metadata": {},
   "outputs": [],
   "source": [
    "generate_correlation_heatmap(df[sel_cols],config['path']['data']+'df_enriched_corr.jpg')"
   ]
  },
  {
   "cell_type": "code",
   "execution_count": 229,
   "id": "1b2f1f10-2a53-4af6-ae44-80e20c0bbea3",
   "metadata": {},
   "outputs": [
    {
     "data": {
      "text/plain": [
       "(77124, 62)"
      ]
     },
     "execution_count": 229,
     "metadata": {},
     "output_type": "execute_result"
    }
   ],
   "source": []
  },
  {
   "cell_type": "code",
   "execution_count": null,
   "id": "f44f9cc3-c2d8-4f80-b242-fbebd2ad07e8",
   "metadata": {},
   "outputs": [],
   "source": []
  },
  {
   "cell_type": "code",
   "execution_count": 5,
   "id": "8b510942-2ad3-4254-b319-31f7887608eb",
   "metadata": {},
   "outputs": [
    {
     "data": {
      "text/plain": [
       "(77124, 62)"
      ]
     },
     "execution_count": 5,
     "metadata": {},
     "output_type": "execute_result"
    }
   ],
   "source": [
    "df = pd.read_pickle(conf['path']['data']+'df_refined_enriched.pkl')\n",
    "df.shape"
   ]
  },
  {
   "cell_type": "code",
   "execution_count": null,
   "id": "905c3f93-02e2-4eeb-ab95-3c6f072fb6f0",
   "metadata": {},
   "outputs": [],
   "source": []
  },
  {
   "cell_type": "code",
   "execution_count": 11,
   "id": "8dc2cae7-3b41-4e5c-a943-24f71ce65c94",
   "metadata": {},
   "outputs": [
    {
     "name": "stdout",
     "output_type": "stream",
     "text": [
      "An error occurred: unsupported operand type(s) for -: 'str' and 'str'\n"
     ]
    }
   ],
   "source": [
    "import numpy as np\n",
    "import pandas as pd\n",
    "\n",
    "def find_distant_points(df, num_points=12000,label_column='incident',):\n",
    "    \"\"\"\n",
    "    Finds the data points with the highest distance between instances with label 0 and label 1.\n",
    "    \n",
    "    Parameters:\n",
    "        df (DataFrame): The input DataFrame.\n",
    "        label_column (str): The column name representing the label.\n",
    "        num_points (int): The number of data points to select.\n",
    "        \n",
    "    Returns:\n",
    "        high_distance_points_df (DataFrame): DataFrame with all columns and an additional column indicating highest distance points.\n",
    "    \"\"\"\n",
    "    try:\n",
    "        # Convert columns to numeric, converting non-numeric values to NaN\n",
    "        df = df.apply(pd.to_numeric, errors='coerce')\n",
    "        \n",
    "        # Fill NaN values with the mean of each column\n",
    "        df.fillna(df.mean(), inplace=True)\n",
    "        \n",
    "        # Select data points for label 0\n",
    "        label_0 = df[df[label_column] == 0].values\n",
    "        \n",
    "        # Select data points for label 1\n",
    "        label_1 = df[df[label_column] == 1].values\n",
    "        \n",
    "        # Compute distances between instances with label 0 and label 1\n",
    "        distances = np.sqrt(((label_0[:, np.newaxis] - label_1) ** 2).sum(axis=2))\n",
    "        \n",
    "        # Get indices of top num_points data points with highest distances\n",
    "        top_indices = np.unravel_index(np.argsort(distances.ravel())[-num_points:], distances.shape)\n",
    "        \n",
    "        # Create DataFrame with all columns\n",
    "        high_distance_points_df = df.copy()\n",
    "        \n",
    "        # Add additional column indicating highest distance points\n",
    "        high_distance_points_df['Is_Highest_Distance'] = 0\n",
    "        \n",
    "        # Set value 1 for highest distance points\n",
    "        high_distance_points_df.iloc[top_indices[0], high_distance_points_df.columns.get_loc(label_column)] = 1\n",
    "        \n",
    "        return high_distance_points_df\n",
    "    \n",
    "    except Exception as e:\n",
    "        print(f\"An error occurred: {str(e)}\")\n",
    "        return None\n",
    "\n",
    "\n",
    "# Select as much as the observed samples\n",
    "num_samples = df[df['incident'] == 1].shape[0]\n",
    "\n",
    "# Select features for computing similarity\n",
    "sel_cols = ['duration','total_distance','average_speed', 'duration_minutes',\n",
    "            'direct_distance', 'gforce','Signal_Strength', 'Wavelet_XYZ_1', \n",
    "            'Wavelet_XYZ_2', 'Wavelet_XYZ_3','Wavelet_LonLat_1', 'Wavelet_LonLat_2',\n",
    "            'Wavelet_LonLat_3','PCA_gforce_1',\"PCA_speedMph_1\", 'Distinct_formOfWay_Count','incident']\n",
    "\n",
    "# Select top 1 row per UID\n",
    "df_1 = df.groupby('UID').head(1)\n",
    "\n",
    "# Call the function\n",
    "d_df = find_distant_points(df_1, num_samples)\n"
   ]
  },
  {
   "cell_type": "code",
   "execution_count": null,
   "id": "c2969db0-0257-4d36-abef-816b9c271139",
   "metadata": {},
   "outputs": [],
   "source": []
  },
  {
   "cell_type": "code",
   "execution_count": null,
   "id": "d71598d6-d627-42c9-baec-8a7f52015a77",
   "metadata": {},
   "outputs": [],
   "source": [
    "#df_1.isnull().sum()"
   ]
  },
  {
   "cell_type": "code",
   "execution_count": null,
   "id": "78f6c7b5-6235-4692-9d6e-9c4473f874b3",
   "metadata": {},
   "outputs": [],
   "source": [
    "import pandas as pd\n",
    "import lightgbm as lgb\n",
    "from sklearn.model_selection import train_test_split\n",
    "import matplotlib.pyplot as plt\n",
    "\n",
    "def train_lightgbm_model(df, target_column='incident', test_size=0.2, random_state=42, params=None, num_round=100, plot_file='feature_importance.png'):\n",
    "    try:\n",
    "        # Filter DataFrame based on the target column\n",
    "        filtered_df = df[df[target_column] == 1]\n",
    "\n",
    "        # Assuming you have features and target\n",
    "        X = filtered_df.drop(target_column, axis=1)  # Features\n",
    "        y = filtered_df[target_column]  # Target\n",
    "\n",
    "        # Split the data into training and testing sets\n",
    "        X_train, X_test, y_train, y_test = train_test_split(X, y, test_size=test_size, random_state=random_state)\n",
    "\n",
    "        # Set default parameters if not provided\n",
    "        if params is None:\n",
    "            params = {\n",
    "                'boosting_type': 'gbdt',\n",
    "                'objective': 'binary',\n",
    "                'metric': 'binary_logloss',\n",
    "                'num_leaves': 31,\n",
    "                'learning_rate': 0.05,\n",
    "                'feature_fraction': 0.9,\n",
    "                'bagging_fraction': 0.8,\n",
    "                'bagging_freq': 5,\n",
    "                'verbose': 0\n",
    "            }\n",
    "\n",
    "        # Create dataset for LightGBM\n",
    "        train_data = lgb.Dataset(X_train, label=y_train)\n",
    "        test_data = lgb.Dataset(X_test, label=y_test)\n",
    "\n",
    "        # Train LightGBM model\n",
    "        bst = lgb.train(params, train_data, num_round, valid_sets=[test_data], early_stopping_rounds=10)\n",
    "\n",
    "        # Predict probabilities for the target class\n",
    "        y_pred_proba = bst.predict(X_test)\n",
    "\n",
    "        # Add predicted probabilities as a new feature in the DataFrame\n",
    "        filtered_df['predicted_proba'] = y_pred_proba\n",
    "\n",
    "        # Plot feature importance\n",
    "        lgb.plot_importance(bst, figsize=(10, 8))\n",
    "        plt.tight_layout()\n",
    "        plt.savefig(plot_file)\n",
    "        plt.close()  # Close the plot to prevent it from being displayed in the console\n",
    "\n",
    "        return bst, filtered_df\n",
    "\n",
    "    except Exception as e:\n",
    "        print(f\"An error occurred: {str(e)}\")\n",
    "        return None, None\n",
    "\n",
    "# Example usage:\n",
    "# Assuming df is your DataFrame\n",
    "# trained_model, df_with_proba = train_lightgbm_model(df)\n"
   ]
  },
  {
   "cell_type": "code",
   "execution_count": 172,
   "id": "5ffabf6a-77e0-4a44-b2c7-2b5dcf020559",
   "metadata": {},
   "outputs": [
    {
     "data": {
      "text/plain": [
       "count    77124.000000\n",
       "mean       531.367318\n",
       "std        492.686637\n",
       "min          0.000000\n",
       "25%        136.000000\n",
       "50%        412.000000\n",
       "75%        841.000000\n",
       "max       2174.000000\n",
       "Name: tripDistance, dtype: float64"
      ]
     },
     "execution_count": 172,
     "metadata": {},
     "output_type": "execute_result"
    }
   ],
   "source": [
    " df['tripDistance'].describe()\n"
   ]
  },
  {
   "cell_type": "code",
   "execution_count": 173,
   "id": "39bb6098-bc5d-4536-bb05-db0b2e71a887",
   "metadata": {},
   "outputs": [
    {
     "data": {
      "text/plain": [
       "count    77124.000000\n",
       "mean         0.267673\n",
       "std          0.093492\n",
       "min          0.128808\n",
       "25%          0.196591\n",
       "50%          0.263284\n",
       "75%          0.350351\n",
       "max          0.446480\n",
       "Name: total_distance, dtype: float64"
      ]
     },
     "execution_count": 173,
     "metadata": {},
     "output_type": "execute_result"
    }
   ],
   "source": [
    " df['total_distance'].describe()"
   ]
  },
  {
   "cell_type": "code",
   "execution_count": 174,
   "id": "72bb4b4f-8c0e-4bed-bbba-c9d0e0d14475",
   "metadata": {},
   "outputs": [
    {
     "data": {
      "text/plain": [
       "count    77124.000000\n",
       "mean         0.267548\n",
       "std          0.093394\n",
       "min          0.128800\n",
       "25%          0.196571\n",
       "50%          0.263151\n",
       "75%          0.350196\n",
       "max          0.446090\n",
       "Name: direct_distance, dtype: float64"
      ]
     },
     "execution_count": 174,
     "metadata": {},
     "output_type": "execute_result"
    }
   ],
   "source": [
    " df['direct_distance'].describe()"
   ]
  },
  {
   "cell_type": "code",
   "execution_count": null,
   "id": "625e34c3-8044-4d0a-8630-ab5cea2d3238",
   "metadata": {},
   "outputs": [],
   "source": []
  },
  {
   "cell_type": "code",
   "execution_count": null,
   "id": "4ca41ff7-1983-4584-8eca-631845a4a927",
   "metadata": {},
   "outputs": [],
   "source": []
  },
  {
   "cell_type": "code",
   "execution_count": null,
   "id": "e4d951d9-6df9-4700-971a-66e9b700f538",
   "metadata": {},
   "outputs": [],
   "source": []
  },
  {
   "cell_type": "code",
   "execution_count": null,
   "id": "7d0f861f-8a3f-4289-b92b-951590472e3d",
   "metadata": {},
   "outputs": [],
   "source": []
  },
  {
   "cell_type": "code",
   "execution_count": null,
   "id": "e6be9758-5a6e-4ca3-b535-403b8cea9fc7",
   "metadata": {},
   "outputs": [],
   "source": []
  },
  {
   "cell_type": "code",
   "execution_count": null,
   "id": "838b2ce6-9de9-40eb-acb8-f34bd5cb56a1",
   "metadata": {},
   "outputs": [],
   "source": []
  },
  {
   "cell_type": "code",
   "execution_count": null,
   "id": "623f7d17-b364-4a3f-9f24-163c0c5921e3",
   "metadata": {},
   "outputs": [],
   "source": []
  },
  {
   "cell_type": "code",
   "execution_count": null,
   "id": "a410de6e-35b1-4b3a-8064-5c41431ed9ef",
   "metadata": {},
   "outputs": [],
   "source": []
  },
  {
   "cell_type": "code",
   "execution_count": null,
   "id": "f977922d-4c13-46e0-a7e4-7ca06a946d26",
   "metadata": {},
   "outputs": [],
   "source": []
  },
  {
   "cell_type": "code",
   "execution_count": null,
   "id": "26bad733-0e03-4204-81d1-b33d6e2ce37e",
   "metadata": {},
   "outputs": [],
   "source": []
  },
  {
   "cell_type": "code",
   "execution_count": null,
   "id": "c4446806-3222-4fcf-a088-ea1310a74861",
   "metadata": {},
   "outputs": [],
   "source": []
  },
  {
   "cell_type": "code",
   "execution_count": null,
   "id": "6874a9ce-b21e-481e-9fde-f0427dbd4305",
   "metadata": {},
   "outputs": [],
   "source": []
  },
  {
   "cell_type": "code",
   "execution_count": null,
   "id": "e37b8e4b-8b84-486f-aaa0-c360687c9fba",
   "metadata": {},
   "outputs": [],
   "source": []
  },
  {
   "cell_type": "code",
   "execution_count": null,
   "id": "e11dee2a-c1cf-4878-ba8e-3364c3598e09",
   "metadata": {},
   "outputs": [],
   "source": []
  },
  {
   "cell_type": "code",
   "execution_count": 105,
   "id": "13377780-c656-4c81-9846-6d984c387998",
   "metadata": {},
   "outputs": [],
   "source": [
    "\n"
   ]
  },
  {
   "cell_type": "code",
   "execution_count": null,
   "id": "f9ea3387-1431-4fc7-b3b2-52d17e15f7d6",
   "metadata": {},
   "outputs": [],
   "source": []
  },
  {
   "cell_type": "code",
   "execution_count": null,
   "id": "87ba21d2-659c-440a-9a41-37d0530ac60d",
   "metadata": {},
   "outputs": [],
   "source": []
  },
  {
   "cell_type": "code",
   "execution_count": null,
   "id": "36a1fff5-10ef-429c-a935-b3fcae663552",
   "metadata": {},
   "outputs": [],
   "source": []
  }
 ],
 "metadata": {
  "kernelspec": {
   "display_name": "Python 3 (Spyder)",
   "language": "python3",
   "name": "python3"
  },
  "language_info": {
   "codemirror_mode": {
    "name": "ipython",
    "version": 3
   },
   "file_extension": ".py",
   "mimetype": "text/x-python",
   "name": "python",
   "nbconvert_exporter": "python",
   "pygments_lexer": "ipython3",
   "version": "3.11.5"
  }
 },
 "nbformat": 4,
 "nbformat_minor": 5
}
